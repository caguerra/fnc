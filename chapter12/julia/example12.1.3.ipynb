{
 "cells": [
  {
   "cell_type": "code",
   "execution_count": null,
   "metadata": {
    "tags": [
     "remove-cell"
    ],
    "vscode": {
     "languageId": "julia"
    }
   },
   "outputs": [],
   "source": [
    "using FundamentalsNumericalComputation\n",
    "FNC.init_format()"
   ]
  },
  {
   "cell_type": "markdown",
   "metadata": {},
   "source": [
    "We solve the advection equation on $[-4,4]$ with periodic end conditions using the method of lines. In the following definition we allow the velocity $c$ to be specified as a parameter in the `ODEProblem`."
   ]
  },
  {
   "cell_type": "code",
   "execution_count": null,
   "metadata": {
    "vscode": {
     "languageId": "julia"
    }
   },
   "outputs": [],
   "source": [
    "x,Dₓ,Dₓₓ = FNC.diffper(300,[-4,4]);\n",
    "f = (u,c,t) -> -c*(Dₓ*u);"
   ]
  },
  {
   "cell_type": "markdown",
   "metadata": {},
   "source": [
    "The following initial condition isn't mathematically periodic, but the deviation is less than machine precision. We specify RK4 as the solver.  "
   ]
  },
  {
   "cell_type": "code",
   "execution_count": null,
   "metadata": {
    "vscode": {
     "languageId": "julia"
    }
   },
   "outputs": [],
   "source": [
    "u_init = @. 1 + exp(-3*x^2)\n",
    "IVP = ODEProblem(f,u_init,(0.,4.),2)\n",
    "sol = solve(IVP,RK4());"
   ]
  },
  {
   "cell_type": "code",
   "execution_count": null,
   "metadata": {
    "tags": [
     "hide-input"
    ],
    "vscode": {
     "languageId": "julia"
    }
   },
   "outputs": [],
   "source": [
    "plt = plot(legend=:bottomleft,title=\"Advection\",\n",
    "    xaxis=(L\"x\"),yaxis=(L\"u(x,t)\"))\n",
    "for t in (0:4)*2/3\n",
    "    plot!(x,sol(t),label=@sprintf(\"t=%.1f\",t))\n",
    "end\n",
    "plt"
   ]
  },
  {
   "cell_type": "markdown",
   "metadata": {},
   "source": [
    "An animation shows the solution nicely. The bump moves with speed 2 to the right, reentering on the left as it exits to the right because of the periodic conditions. \n"
   ]
  },
  {
   "cell_type": "code",
   "execution_count": null,
   "metadata": {
    "vscode": {
     "languageId": "julia"
    }
   },
   "outputs": [],
   "source": [
    "anim = @animate for t in range(0,4,length=120) \n",
    "    plot(x,sol(t),\n",
    "        xaxis=(L\"x\"),yaxis=([1,2],L\"u(x,t)\"),dpi=100,    \n",
    "        title=@sprintf(\"Advection equation, t=%.2f\",t))\n",
    "end\n",
    "mp4(anim,\"advection.mp4\")"
   ]
  }
 ],
 "metadata": {
  "language_info": {
   "name": "python"
  }
 },
 "nbformat": 4,
 "nbformat_minor": 2
}
