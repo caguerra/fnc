{
 "cells": [
  {
   "cell_type": "code",
   "execution_count": null,
   "id": "352d6a28",
   "metadata": {
    "tags": [
     "remove-cell"
    ]
   },
   "outputs": [],
   "source": [
    "using FundamentalsNumericalComputation\n",
    "FNC.init_format()"
   ]
  },
  {
   "cell_type": "markdown",
   "id": "480fe204",
   "metadata": {},
   "source": [
    "(section-ivp-basics)=\n",
    "# Basics of IVPs\n",
    "\n",
    "```{index} ! initial-value problem\n",
    "```\n",
    "\n",
    "(definition-basics-scalarivp)=\n",
    "::::{prf:definition} Initial-value problem (scalar)\n",
    "A scalar first-order **initial-value problem** (IVP) is\n",
    "  \n",
    "```{math}\n",
    ":label: IVP\n",
    "\\begin{split}\n",
    "   u'(t) &= f(t,u(t)), \\qquad a \\le t \\le b,  \\\\\n",
    "  u(a) &=u_0.\n",
    "\\end{split}\n",
    "```\n",
    "\n",
    "We call $t$ the **independent variable** and $u$ the **dependent variable**. If $u'=f(t,u)=g(t)+u h(t)$, the differential equation is **linear**; otherwise, it is **nonlinear**.\n",
    "\n",
    "A **solution** of an initial-value problem is a function $u(t)$ that makes both $u'(t)=f\\bigl(t,u(t)\\bigr)$ and $u(a)=u_0$ true equations.\n",
    "::::\n",
    "\n",
    "When $t$ is meant to be time, sometimes we write $\\dot{u}$ (read \"u-dot\") instead of $u'$. \n",
    "\n",
    "::::{prf:example}\n",
    "  Suppose $u(t)$ is the size of a population at time $t$. We idealize by allowing $u$ to take any real (not just integer) value. If we assume a constant per capita birth rate (births per unit population per unit time), then\n",
    "  \n",
    "```{math}\n",
    "\\frac{d u}{d t} = k u, \\qquad u(0)=u_0\n",
    "```\n",
    "\n",
    "for some $k>0$. The solution of this linear equation is $u(t)=e^{kt}u_0$, which is exponential growth.\n",
    "\n",
    "A more realistic model would cap the growth due to finite resources. Suppose the death rate is proportional to the size of the population, indicating competition. Then\n",
    "\n",
    "```{math}\n",
    ":label: logistic\n",
    "  \\frac{d u}{d t} = ku - ru^2, \\qquad u(0)=u_0.\n",
    "```\n",
    "\n",
    "```{index} ! logistic equation\n",
    "```\n",
    "\n",
    "This is the **logistic equation**. Although crude, it is still useful in population models.  The solution relevant for population models has the form\n",
    "  \n",
    "```{math}\n",
    "  u(t) = \\frac{k/r}{ 1 + \\left( \\frac{k}{r u_0} - 1 \\right) e^{-k t} }.\n",
    "```\n",
    "\n",
    "For $k,r,u_0>0$, the solution smoothly varies from the initial population $u_0$ to a finite population, equal to $k/r$, that has been limited by competition.\n",
    "::::\n",
    "\n",
    "Linear problems can be solved in terms of integrals. Defining the *integrating factor* $\\rho(t) = \\exp\\bigl[\\int -h(t)\\, dt \\bigr]$, the solution is derived from\n",
    "\n",
    "```{math}\n",
    "  \\rho(t) u(t) = u_0 + \\int_a^t \\rho(s) g(s) \\, ds.\n",
    "```\n",
    "\n",
    "In many cases, however, the necessary integrals cannot be done in closed form. Some nonlinear ODEs, such as separable equations, may also be solvable with a short formula, perhaps with difficult integrations. Most often, though, there is no analytic formula available for the solution.\n",
    "\n",
    "An ODE may have higher derivatives of the unknown solution present. For example, a **second-order ordinary differential equation** is often given in the form $u''(t)=f\\bigl(t,u,u'\\bigr)$. A second-order IVP requires two conditions at the initial time in order to specify a solution completely. As we will see in {numref}`section-ivp-systems`, we are always able to reformulate higher-order IVPs in a first-order form, so we will deal with first-order problems exclusively. \n",
    "\n",
    "## Numerical solutions\n",
    "\n",
    "\n",
    "(demo-basics-first)=\n",
    "```{prf:example}\n",
    "```\n",
    "\n",
    "\n",
    "\n",
    "\n",
    "\n",
    "The `DifferentialEquations` package offers solvers for IVPs. Let's use it to define and solve an initial-value problem for $u'=\\sin[(u+t)^2]$ over $t \\in [0,4]$, such that $u(0)=-1$.  \n",
    "\n",
    "::::{grid} 1 1 2 2\n",
    "\n",
    ":::{grid-item}\n",
    "\n",
    "\n",
    "Because many practical problems come with parameters that are fixed within an instance but varied from one instance to another, the syntax for IVPs includes a input argument `p` that stays fixed throughout the solution. Here we don't want to use that argument, but it must be in the definition for the solver to work.\n",
    "\n",
    "\n",
    ":::\n",
    ":::{card}\n",
    "\n",
    "\n",
    "To create an initial-value problem for $u(t)$, you must supply a function that computes $u'$, an initial value for $u$, and the endpoints of the interval for $t$. The $t$ interval should be defined as `(a,b)`, where at least one of the values is a float.\n",
    "\n",
    ":::\n",
    "::::\n",
    "\n",
    "```{index} ! Julia; ODEProblem, ! Julia; solve\n",
    "```"
   ]
  },
  {
   "cell_type": "code",
   "execution_count": null,
   "id": "0d7e36a1",
   "metadata": {},
   "outputs": [],
   "source": [
    "f = (u,p,t) -> sin((t+u)^2)     # defines du/dt, must include p argument\n",
    "u₀ = -1.0                       # initial value\n",
    "tspan = (0.0,4.0)               # t interval "
   ]
  },
  {
   "cell_type": "markdown",
   "id": "3d9b6ac8",
   "metadata": {},
   "source": [
    "With the data above we define an IVP problem object and then solve it. Here we tell the solver to use the `Tsit5` method, which is a good first choice for most problems."
   ]
  },
  {
   "cell_type": "code",
   "execution_count": null,
   "id": "8a8535d5",
   "metadata": {},
   "outputs": [],
   "source": [
    "ivp = ODEProblem(f,u₀,tspan)\n",
    "sol = solve(ivp,Tsit5());"
   ]
  },
  {
   "cell_type": "markdown",
   "id": "78a64015",
   "metadata": {},
   "source": [
    "The resulting solution object can be shown using `plot`."
   ]
  },
  {
   "cell_type": "code",
   "execution_count": null,
   "id": "4a7d5c03",
   "metadata": {},
   "outputs": [],
   "source": [
    "plot(sol,label=\"solution\",legend=:bottom,\n",
    "    xlabel=\"t\",ylabel=L\"u(t)\",title=L\"u'=\\sin((t+u)^2)\")"
   ]
  },
  {
   "cell_type": "markdown",
   "id": "59c610fa",
   "metadata": {},
   "source": [
    "The solution also acts like any callable function that can be evaluated at different values of $t$."
   ]
  },
  {
   "cell_type": "code",
   "execution_count": null,
   "id": "120354b6",
   "metadata": {},
   "outputs": [],
   "source": [
    "@show sol(1.0);"
   ]
  },
  {
   "cell_type": "markdown",
   "id": "ce5835c3",
   "metadata": {},
   "source": [
    "Under the hood, the solution object holds some information about how the values and plot are produced:"
   ]
  },
  {
   "cell_type": "code",
   "execution_count": null,
   "id": "9f4091f1",
   "metadata": {},
   "outputs": [],
   "source": [
    "[sol.t sol.u]"
   ]
  },
  {
   "cell_type": "markdown",
   "id": "c1e57c22",
   "metadata": {},
   "source": [
    "The solver initially finds approximate values of the solution (second column above) at some automatically chosen times (first column above). To compute the solution at other times, the object performs an interpolation on those values. This chapter is about how the discrete $t$ and $u$ values are computed. For now, just note how we can extract them from the solution object."
   ]
  },
  {
   "cell_type": "code",
   "execution_count": null,
   "id": "78816ad0",
   "metadata": {},
   "outputs": [],
   "source": [
    "scatter!(sol.t,sol.u,label=\"discrete values\")"
   ]
  },
  {
   "cell_type": "markdown",
   "id": "bcc8caa5",
   "metadata": {},
   "source": [
    "## Existence and uniqueness\n",
    "\n",
    "There are simple IVPs that do not have solutions at all possible times. \n",
    "\n",
    "(demo-basics-sing)=\n",
    "```{prf:example}\n",
    "```\n",
    "\n",
    "\n",
    "\n",
    "\n",
    "\n",
    "The equation $u'=(u+t)^2$ gives us some trouble."
   ]
  },
  {
   "cell_type": "code",
   "execution_count": null,
   "id": "7e9f8dad",
   "metadata": {},
   "outputs": [],
   "source": [
    "f = (u,p,t) -> (t+u)^2\n",
    "\n",
    "ivp = ODEProblem(f,1.0,(0.,1.))\n",
    "sol = solve(ivp,Tsit5());"
   ]
  },
  {
   "cell_type": "markdown",
   "id": "1b72d492",
   "metadata": {},
   "source": [
    "The warning message we received can mean that there is a bug in the formulation of the problem. But if everything has been done correctly, it suggests that the solution may not exist past the indicated time. This is a possibility in nonlinear ODEs."
   ]
  },
  {
   "cell_type": "code",
   "execution_count": null,
   "id": "64bca1a5",
   "metadata": {},
   "outputs": [],
   "source": [
    "plot(sol, label=\"\",\n",
    "    xlabel=L\"t\",yaxis=(:log10,L\"u(t)\"), title=\"Finite-time blowup\")"
   ]
  },
  {
   "cell_type": "markdown",
   "id": "33465595",
   "metadata": {},
   "source": [
    "We can also produce an IVP that has more than one solution.\n",
    "\n",
    "````{prf:example}\n",
    "  The functions $u(t)=u^2$ and $u(t)\\equiv 0$ both satisfy the differential equation $u'=2\\sqrt{u}$ and the initial condition $u(0)=0$. Thus the corresponding IVP has more than one solution.\n",
    "````\n",
    "\n",
    "The following standard theorem gives us a condition that is easy to check and guarantees that a unique solution exists. But it is not the most general possible such condition, so there are problems with a unique solution that it cannot detect. We state the theorem without proof.\n",
    "\n",
    "(theorem-existunique)=\n",
    "````{prf:theorem} Existence and uniqueness\n",
    "\n",
    "If the derivative $\\frac{\\partial f}{\\partial u}$ exists and $\\left|\\frac{\\partial f}{\\partial u}\\right|$ is bounded by a constant $L$ for all $a\\le t \\le b$ and all $u$, then the initial-value problem {eq}`IVP` has a unique solution for $t\\in [a,b]$.\n",
    "````\n",
    "\n",
    "## Conditioning of first-order IVPs\n",
    "\n",
    "```{index} condition number; of initial-value problems\n",
    "```\n",
    "\n",
    "In a numerical context we have to be concerned about the conditioning of the IVP. There are two key items in {eq}`IVP` that we might consider to be the data of the initial-value ODE problem: the function $f(t,u)$, and the initial value $u_0$. It's easier to discuss perturbations to numbers than to functions, so we will focus on the effect of $u_0$ on the solution, using the following theorem that we give without proof. Happily, its conditions are identical to those in {numref}`Theorem %s <theorem-existunique>`.\n",
    "\n",
    "(theorem-depIC)=\n",
    "````{prf:theorem} Dependence on initial value\n",
    "If the derivative $\\frac{\\partial f}{\\partial u}$ exists and $\\left|\\frac{\\partial f}{\\partial u}\\right|$ is bounded by a constant $L$ for all $a\\le t \\le b$ and all $u$, then the solution $u(t;u_0+\\delta)$ of $u'=f(t,u)$ with initial condition $u(0)=u_0+\\delta$ satisfies\n",
    "  \n",
    "```{math}\n",
    ":label: depIC\n",
    "\\left\\|u(t;u_0+\\delta)-u(t;u_0)\\right\\|_\\infty \\le |\\delta| e^{L(b-a)}\n",
    "```\n",
    "\n",
    "for all sufficiently small $|\\delta|$.\n",
    "````\n",
    "\n",
    "Numerical solutions of IVPs have errors, and those errors can be seen as perturbations to the solution. {numref}`Theorem %s <theorem-depIC>` gives an upper bound of $e^{L(b-a)}$ on the infinity norm (i.e., pointwise) absolute condition number of the solution with respect to perturbations at an initial time. However, the upper bound may be a terrible overestimate of the actual sensitivity for a particular problem.\n",
    "\n",
    "(demo-basics-cond)=\n",
    "```{prf:example}\n",
    "```\n",
    "\n",
    "\n",
    "\n",
    "\n",
    "\n",
    "Consider the ODEs $u'=u$ and $u'=-u$. In each case we compute $\\partial f/\\partial u = \\pm 1$, so the condition number bound from {numref}`Theorem %s <theorem-depIC>` is $e^{b-a}$ in both problems. However, they behave quite differently. In the case of exponential growth, $u'=u$, the bound is the actual condition number."
   ]
  },
  {
   "cell_type": "code",
   "execution_count": null,
   "id": "c5e3bbcd",
   "metadata": {
    "tags": [
     "hide-input"
    ]
   },
   "outputs": [],
   "source": [
    "t = range(0,3,length=800)\n",
    "u = @. exp(t)*1\n",
    "lower,upper = @. exp(t)*0.7, @. exp(t)*1.3\n",
    "plot(t,u,l=:black,ribbon=(lower,upper),\n",
    "    leg=:none,xlabel=L\"t\",ylabel=L\"u(t)\",\n",
    "    title=\"Exponential divergence of solutions\")"
   ]
  },
  {
   "cell_type": "markdown",
   "id": "25c506a6",
   "metadata": {},
   "source": [
    "But with $u'=-u$, solutions actually get closer together with time."
   ]
  },
  {
   "cell_type": "code",
   "execution_count": null,
   "id": "94f3ed37",
   "metadata": {
    "tags": [
     "hide-input"
    ]
   },
   "outputs": [],
   "source": [
    "u = @. exp(-t)*1\n",
    "lower,upper = @. exp(-t)*0.7, @. exp(-t)*1.3\n",
    "plot(t,u,l=:black,ribbon=(lower,upper),\n",
    "    leg=:none,xlabel=L\"t\",ylabel=L\"u(t)\", \n",
    "    title=\"Exponential convergence of solutions\")"
   ]
  },
  {
   "cell_type": "markdown",
   "id": "c4e0f91b",
   "metadata": {},
   "source": [
    "In this case the actual condition number is one, because the initial difference between solutions is the largest over all time. Hence the exponentially growing bound $e^{b-a}$ is a gross overestimate.\n",
    "\n",
    "\n",
    "\n",
    "\n",
    "In general, solutions can diverge from, converge to, or oscillate around the original trajectory in response to perturbations. We won't fully consider these behaviors and their implications for numerical methods again until a later chapter.\n",
    "\n",
    "## Exercises\n",
    "\n",
    "1. ✍ For each IVP, determine whether the problem satisfies the conditions of {numref}`Theorem %s <theorem-depIC>`). If so, determine the smallest possible value for $L$.\n",
    "\n",
    "    **(a)** $f(t,u) = 3 u,\\; 0 \\le t \\le 1$\n",
    "\n",
    "    **(b)** $f(t,u) = -t \\sin(u),\\; 0 \\le t \\le 5$\n",
    "\n",
    "    **(c)** $f(t,u) = -(1+t^2) u^2,\\; 1 \\le t \\le 3$\n",
    "\n",
    "    **(d)** $f(t,u) = \\sqrt{u},\\; 0 \\le t \\le 1$\n",
    " \n",
    "2. ⌨ For each ODE in the preceding problem, assume that $u$ is initially equal to $1$ on the given interval. Solve the resulting IVP with `solve` and make a plot of the solution.\n",
    "\n",
    "3. ✍ Use an integrating factor to find the solution of each problem in analytic form.\n",
    "\n",
    "    **(a)** $u' = -t u,\\ 0 \\le t \\le 5,\\ u(0) = 2$\n",
    "\n",
    "    **(b)** $u' - 3 u = e^{-2t},\\ 0 \\le t \\le 1,\\  u(0) = 5$\n",
    "\n",
    "4. ✍ Consider the IVP $u'=u^2$, $u(0)=\\alpha$.\n",
    "\n",
    "    **(a)** Does {numref}`Theorem %s <theorem-existunique>` apply to this problem?\n",
    "\n",
    "    **(b)** Show that $u(t) = \\alpha/(1-\\alpha t)$ is a solution of the IVP.\n",
    "\n",
    "    **(c)** Does this solution necessarily exist for all $t\\in[0,1]$?\n",
    "\n",
    "    ```{index} logistic equation\n",
    "    ```\n",
    "\n",
    "5. ⌨ Using `solve`, compute solutions $x(t)$ to the logistic equation with harvesting,\n",
    "\n",
    "    ```{math}\n",
    "    x' = k (S-x)(x-M), \\qquad 0\\le t \\le 10,\n",
    "    ```\n",
    "\n",
    "    with $k=S=1$ and $M=0.25$, for the initial conditions $x(0)=0.9M$, $1.1M$, $1.5M$, $0.9S$, $1.1S$, $3S$. Show all the solutions together on one plot with $0\\le x \\le 3$. (Note: One of the solutions will throw a warning and fail to reach $t=10$, but you can plot it anyway.)\n",
    "\n",
    "6. ⌨ **(a)** Using `solve`, solve the IVP $u'=u\\cos(u) + \\cos(4t)$, $0\\le t \\le 10$, $u(0) = u_0$ for $u_0 = -2,-1.5,-1,\\ldots,1.5,2$. Plot all the solutions on a single graph. \n",
    "    \n",
    "    **(b)** All of the solutions in part (a) eventually settle into one of two periodic oscillations. To two digits of accuracy, find the value of $u_0$ in $(-1,1)$ at which the selected long-term solution changes. (This will take repeated trials, narrowing down the range for $u_0$ each time.)\n",
    "\n",
    "    (problem-caffeine)=\n",
    "7. ⌨ Experimental evidence (see {cite}`newtonPlasmaSalivary1981`) shows that a 300-mg oral dose of caffeine, such as might be found in a large mug of drip-brewed coffee, creates a concentration of about 8 $\\mu{\\rm g}$/mL in blood plasma. This boost is followed by first-order kinetics with a half-life of about 6 hours (although this rate can vary a great deal from person to person). We can model the caffeine concentration due to one drink taken over half an hour via\n",
    "\n",
    "    ```{math}\n",
    "      x'(t) = -kx + C(t),\\quad x(0)=0,\n",
    "    ```\n",
    "\n",
    "    where $k=\\log(2)/6$ and\n",
    "\n",
    "    ```{math}\n",
    "      C(t) =\n",
    "      \\begin{cases}\n",
    "        16, & 0\\le t \\le 0.5, \\\\\n",
    "        0, & t > 0.5.\n",
    "      \\end{cases}\n",
    "    ```\n",
    "\n",
    "    Use `solve` to make a plot of the caffeine concentration for 12 hours. Then change $k=\\log(2)/8$ (half-life of 8 hours) and plot the solution again.\n",
    "\n",
    "8. ⌨ A reasonable model of the velocity $v(t)$ of a skydiver is\n",
    "\n",
    "    $$\\frac{dv}{dt} = -g + \\frac{k}{m}v^2,  \\qquad v(0)=0,$$\n",
    "\n",
    "    where $g=9.8 \\text{ m/sec}^2$ is gravitational acceleration, $m$ is the mass of the skydiver with parachute, and $k$ quantifies the effect of air resistance. At the US Air Force Academy, a training jump starts at about 1200 m and has $k=0.4875$ for $t<13$ and $k=29.16$ or $t\\ge 13$. (This is an oversimplification; see {cite}`meadeDifferentialEquations1999`.) \n",
    "\n",
    "    **(a)** Solve the IVP for $v$ for an 80-kg cadet for $t\\in [0,200]$, and plot the solution.\n",
    "\n",
    "    **(b)** The total distance fallen up to time $t$ is $\\displaystyle\\int_0^t v(s)\\, ds$. Use {numref}`Function {number} <function-intadapt>` to calculate and plot the altitude of the cadet as a function of time.\n",
    "\n",
    "    **(c)** In part (b), you should have found that the altitude becomes negative. Use {numref}`Function {number} <function-secant>` to determine accurately when the cadet reaches the ground."
   ]
  }
 ],
 "metadata": {
  "jupytext": {
   "cell_metadata_filter": "-all"
  },
  "kernelspec": {
   "display_name": "Julia 1.7.1",
   "language": "julia",
   "name": "julia-fast"
  }
 },
 "nbformat": 4,
 "nbformat_minor": 5
}
